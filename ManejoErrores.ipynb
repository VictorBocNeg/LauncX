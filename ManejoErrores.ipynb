{
 "cells": [
  {
   "cell_type": "code",
   "execution_count": 1,
   "metadata": {},
   "outputs": [
    {
     "ename": "TypeError",
     "evalue": "unsupported operand type(s) for *: 'int' and 'NoneType'",
     "output_type": "error",
     "traceback": [
      "\u001b[1;31m---------------------------------------------------------------------------\u001b[0m",
      "\u001b[1;31mTypeError\u001b[0m                                 Traceback (most recent call last)",
      "\u001b[1;32mc:\\Users\\vitro\\Desktop\\SPACEX\\ManejoErrores.ipynb Cell 1'\u001b[0m in \u001b[0;36m<module>\u001b[1;34m\u001b[0m\n\u001b[0;32m      <a href='vscode-notebook-cell:/c%3A/Users/vitro/Desktop/SPACEX/ManejoErrores.ipynb#ch0000000?line=7'>8</a>\u001b[0m     \u001b[39mreturn\u001b[39;00m \u001b[39mf\u001b[39m\u001b[39m\"\u001b[39m\u001b[39mAgua restante después de \u001b[39m\u001b[39m{\u001b[39;00mdiasRestantes\u001b[39m}\u001b[39;00m\u001b[39m días es: \u001b[39m\u001b[39m{\u001b[39;00maguaRestanteTotal\u001b[39m}\u001b[39;00m\u001b[39m litros.\u001b[39m\u001b[39m\"\u001b[39m\n\u001b[0;32m     <a href='vscode-notebook-cell:/c%3A/Users/vitro/Desktop/SPACEX/ManejoErrores.ipynb#ch0000000?line=9'>10</a>\u001b[0m \u001b[39m#Probamos la función, de acuerdo con la kata se usarán 5 astronautas, 100 litros de agua sobrante y dos días\u001b[39;00m\n\u001b[0;32m     <a href='vscode-notebook-cell:/c%3A/Users/vitro/Desktop/SPACEX/ManejoErrores.ipynb#ch0000000?line=10'>11</a>\u001b[0m \u001b[39m#Ahora intentaremos pasar valores que no sean enteros para comprobar la salida de error\u001b[39;00m\n\u001b[0;32m     <a href='vscode-notebook-cell:/c%3A/Users/vitro/Desktop/SPACEX/ManejoErrores.ipynb#ch0000000?line=11'>12</a>\u001b[0m \u001b[39m#Debido a la versión de python que se usó para esta actividad el error varía en su redacción, o al menos eso fue lo que encontré navegando por internet...\u001b[39;00m\n\u001b[1;32m---> <a href='vscode-notebook-cell:/c%3A/Users/vitro/Desktop/SPACEX/ManejoErrores.ipynb#ch0000000?line=12'>13</a>\u001b[0m aguaRestante(\u001b[39m3\u001b[39;49m,\u001b[39m200\u001b[39;49m,\u001b[39mNone\u001b[39;49;00m)\n",
      "\u001b[1;32mc:\\Users\\vitro\\Desktop\\SPACEX\\ManejoErrores.ipynb Cell 1'\u001b[0m in \u001b[0;36maguaRestante\u001b[1;34m(astronautas, aguaRestante, diasRestantes)\u001b[0m\n\u001b[0;32m      <a href='vscode-notebook-cell:/c%3A/Users/vitro/Desktop/SPACEX/ManejoErrores.ipynb#ch0000000?line=0'>1</a>\u001b[0m \u001b[39mdef\u001b[39;00m \u001b[39maguaRestante\u001b[39m(astronautas, aguaRestante,diasRestantes):\n\u001b[0;32m      <a href='vscode-notebook-cell:/c%3A/Users/vitro/Desktop/SPACEX/ManejoErrores.ipynb#ch0000000?line=1'>2</a>\u001b[0m     usoDiario \u001b[39m=\u001b[39m astronautas \u001b[39m*\u001b[39m \u001b[39m11\u001b[39m\n\u001b[1;32m----> <a href='vscode-notebook-cell:/c%3A/Users/vitro/Desktop/SPACEX/ManejoErrores.ipynb#ch0000000?line=2'>3</a>\u001b[0m     usoTotal \u001b[39m=\u001b[39m usoDiario \u001b[39m*\u001b[39;49m diasRestantes\n\u001b[0;32m      <a href='vscode-notebook-cell:/c%3A/Users/vitro/Desktop/SPACEX/ManejoErrores.ipynb#ch0000000?line=3'>4</a>\u001b[0m     aguaRestanteTotal \u001b[39m=\u001b[39m aguaRestante \u001b[39m-\u001b[39m usoTotal\n\u001b[0;32m      <a href='vscode-notebook-cell:/c%3A/Users/vitro/Desktop/SPACEX/ManejoErrores.ipynb#ch0000000?line=4'>5</a>\u001b[0m     \u001b[39m#Agregamos una validación para que se genere una excepción en la función si el agua es insuficiente para los días restantes\u001b[39;00m\n",
      "\u001b[1;31mTypeError\u001b[0m: unsupported operand type(s) for *: 'int' and 'NoneType'"
     ]
    }
   ],
   "source": [
    "def aguaRestante(astronautas, aguaRestante,diasRestantes):\n",
    "    usoDiario = astronautas * 11\n",
    "    usoTotal = usoDiario * diasRestantes\n",
    "    aguaRestanteTotal = aguaRestante - usoTotal\n",
    "    #Agregamos una validación para que se genere una excepción en la función si el agua es insuficiente para los días restantes\n",
    "    if aguaRestanteTotal < 0:\n",
    "        raise RuntimeError(f\"No hay suficiente agua para {astronautas} astronautas después de {diasRestantes} días!\")\n",
    "    return f\"Agua restante después de {diasRestantes} días es: {aguaRestanteTotal} litros.\"\n",
    "\n",
    "#Probamos la función, de acuerdo con la kata se usarán 5 astronautas, 100 litros de agua sobrante y dos días\n",
    "#Ahora intentaremos pasar valores que no sean enteros para comprobar la salida de error\n",
    "#Debido a la versión de python que se usó para esta actividad el error varía en su redacción, o al menos eso fue lo que encontré navegando por internet...\n",
    "aguaRestante(3,200,None)\n",
    "#A partir de aquí en la kata usaré un nuevo bloque de código para poder mantener mis ejemplos y cambios para un posterior estudio\n"
   ]
  },
  {
   "cell_type": "code",
   "execution_count": null,
   "metadata": {},
   "outputs": [
    {
     "ename": "TypeError",
     "evalue": "Todos los argumentos deben ser del tipo entero, pero se recibió: '3'",
     "output_type": "error",
     "traceback": [
      "\u001b[1;31m---------------------------------------------------------------------------\u001b[0m",
      "\u001b[1;31mTypeError\u001b[0m                                 Traceback (most recent call last)",
      "\u001b[1;32mc:\\Users\\vitro\\Desktop\\SPACEX\\ManejoErrores.ipynb Cell 2'\u001b[0m in \u001b[0;36maguaRestante\u001b[1;34m(astronautas, aguaRestante, diasRestantes)\u001b[0m\n\u001b[0;32m      <a href='vscode-notebook-cell:/c%3A/Users/vitro/Desktop/SPACEX/ManejoErrores.ipynb#ch0000001?line=2'>3</a>\u001b[0m \u001b[39mtry\u001b[39;00m:\n\u001b[0;32m      <a href='vscode-notebook-cell:/c%3A/Users/vitro/Desktop/SPACEX/ManejoErrores.ipynb#ch0000001?line=3'>4</a>\u001b[0m     \u001b[39m#Si el argumento es del tipo int, la siguiente operación funcionará\u001b[39;00m\n\u001b[1;32m----> <a href='vscode-notebook-cell:/c%3A/Users/vitro/Desktop/SPACEX/ManejoErrores.ipynb#ch0000001?line=4'>5</a>\u001b[0m     argument\u001b[39m/\u001b[39;49m\u001b[39m10\u001b[39;49m\n\u001b[0;32m      <a href='vscode-notebook-cell:/c%3A/Users/vitro/Desktop/SPACEX/ManejoErrores.ipynb#ch0000001?line=5'>6</a>\u001b[0m \u001b[39mexcept\u001b[39;00m \u001b[39mTypeError\u001b[39;00m:\n\u001b[0;32m      <a href='vscode-notebook-cell:/c%3A/Users/vitro/Desktop/SPACEX/ManejoErrores.ipynb#ch0000001?line=6'>7</a>\u001b[0m     \u001b[39m#TypError sólo surgirá si no es del tipo correcto\u001b[39;00m\n\u001b[0;32m      <a href='vscode-notebook-cell:/c%3A/Users/vitro/Desktop/SPACEX/ManejoErrores.ipynb#ch0000001?line=7'>8</a>\u001b[0m     \u001b[39m#Se mostrará la misma excepción pero con un mejor mensaje de error\u001b[39;00m\n",
      "\u001b[1;31mTypeError\u001b[0m: unsupported operand type(s) for /: 'str' and 'int'",
      "\nDuring handling of the above exception, another exception occurred:\n",
      "\u001b[1;31mTypeError\u001b[0m                                 Traceback (most recent call last)",
      "\u001b[1;32mc:\\Users\\vitro\\Desktop\\SPACEX\\ManejoErrores.ipynb Cell 2'\u001b[0m in \u001b[0;36m<module>\u001b[1;34m\u001b[0m\n\u001b[0;32m     <a href='vscode-notebook-cell:/c%3A/Users/vitro/Desktop/SPACEX/ManejoErrores.ipynb#ch0000001?line=15'>16</a>\u001b[0m     \u001b[39mreturn\u001b[39;00m \u001b[39mf\u001b[39m\u001b[39m\"\u001b[39m\u001b[39mAgua restante después de \u001b[39m\u001b[39m{\u001b[39;00mdiasRestantes\u001b[39m}\u001b[39;00m\u001b[39m días es: \u001b[39m\u001b[39m{\u001b[39;00maguaRestanteTotal\u001b[39m}\u001b[39;00m\u001b[39m litros.\u001b[39m\u001b[39m\"\u001b[39m\n\u001b[0;32m     <a href='vscode-notebook-cell:/c%3A/Users/vitro/Desktop/SPACEX/ManejoErrores.ipynb#ch0000001?line=16'>17</a>\u001b[0m \u001b[39m#Ahora volvemos a intentarlo para obtener un error mejor\u001b[39;00m\n\u001b[1;32m---> <a href='vscode-notebook-cell:/c%3A/Users/vitro/Desktop/SPACEX/ManejoErrores.ipynb#ch0000001?line=17'>18</a>\u001b[0m aguaRestante(\u001b[39m\"\u001b[39;49m\u001b[39m3\u001b[39;49m\u001b[39m\"\u001b[39;49m,\u001b[39m\"\u001b[39;49m\u001b[39m200\u001b[39;49m\u001b[39m\"\u001b[39;49m,\u001b[39mNone\u001b[39;49;00m)\n",
      "\u001b[1;32mc:\\Users\\vitro\\Desktop\\SPACEX\\ManejoErrores.ipynb Cell 2'\u001b[0m in \u001b[0;36maguaRestante\u001b[1;34m(astronautas, aguaRestante, diasRestantes)\u001b[0m\n\u001b[0;32m      <a href='vscode-notebook-cell:/c%3A/Users/vitro/Desktop/SPACEX/ManejoErrores.ipynb#ch0000001?line=4'>5</a>\u001b[0m         argument\u001b[39m/\u001b[39m\u001b[39m10\u001b[39m\n\u001b[0;32m      <a href='vscode-notebook-cell:/c%3A/Users/vitro/Desktop/SPACEX/ManejoErrores.ipynb#ch0000001?line=5'>6</a>\u001b[0m     \u001b[39mexcept\u001b[39;00m \u001b[39mTypeError\u001b[39;00m:\n\u001b[0;32m      <a href='vscode-notebook-cell:/c%3A/Users/vitro/Desktop/SPACEX/ManejoErrores.ipynb#ch0000001?line=6'>7</a>\u001b[0m         \u001b[39m#TypError sólo surgirá si no es del tipo correcto\u001b[39;00m\n\u001b[0;32m      <a href='vscode-notebook-cell:/c%3A/Users/vitro/Desktop/SPACEX/ManejoErrores.ipynb#ch0000001?line=7'>8</a>\u001b[0m         \u001b[39m#Se mostrará la misma excepción pero con un mejor mensaje de error\u001b[39;00m\n\u001b[1;32m----> <a href='vscode-notebook-cell:/c%3A/Users/vitro/Desktop/SPACEX/ManejoErrores.ipynb#ch0000001?line=8'>9</a>\u001b[0m         \u001b[39mraise\u001b[39;00m \u001b[39mTypeError\u001b[39;00m(\u001b[39mf\u001b[39m\u001b[39m\"\u001b[39m\u001b[39mTodos los argumentos deben ser del tipo entero, pero se recibió: \u001b[39m\u001b[39m'\u001b[39m\u001b[39m{\u001b[39;00margument\u001b[39m}\u001b[39;00m\u001b[39m'\u001b[39m\u001b[39m\"\u001b[39m)\n\u001b[0;32m     <a href='vscode-notebook-cell:/c%3A/Users/vitro/Desktop/SPACEX/ManejoErrores.ipynb#ch0000001?line=9'>10</a>\u001b[0m \u001b[39m#A partir de aquí la función es igual que en el bloque anterior de código\u001b[39;00m\n\u001b[0;32m     <a href='vscode-notebook-cell:/c%3A/Users/vitro/Desktop/SPACEX/ManejoErrores.ipynb#ch0000001?line=10'>11</a>\u001b[0m usoDiario \u001b[39m=\u001b[39m astronautas \u001b[39m*\u001b[39m \u001b[39m11\u001b[39m\n",
      "\u001b[1;31mTypeError\u001b[0m: Todos los argumentos deben ser del tipo entero, pero se recibió: '3'"
     ]
    }
   ],
   "source": [
    "def aguaRestante(astronautas, aguaRestante,diasRestantes):\n",
    "    for argument in [astronautas,aguaRestante,diasRestantes]:\n",
    "        try:\n",
    "            #Si el argumento es del tipo int, la siguiente operación funcionará\n",
    "            argument/10\n",
    "        except TypeError:\n",
    "            #TypError sólo surgirá si no es del tipo correcto\n",
    "            #Se mostrará la misma excepción pero con un mejor mensaje de error\n",
    "            raise TypeError(f\"Todos los argumentos deben ser del tipo entero, pero se recibió: '{argument}'\")\n",
    "    #A partir de aquí la función es igual que en el bloque anterior de código\n",
    "    usoDiario = astronautas * 11\n",
    "    usoTotal = usoDiario * diasRestantes\n",
    "    aguaRestanteTotal = aguaRestante - usoTotal\n",
    "    if aguaRestanteTotal < 0:\n",
    "        raise RuntimeError(f\"No hay suficiente agua para {astronautas} astronautas después de {diasRestantes} días!\")\n",
    "    return f\"Agua restante después de {diasRestantes} días es: {aguaRestanteTotal} litros.\"\n",
    "#Ahora volvemos a intentarlo para obtener un error mejor\n",
    "aguaRestante(\"3\",\"200\",None)\n",
    "#Con esto se concluye con la kata del módulo 10 de la misión\n"
   ]
  }
 ],
 "metadata": {
  "interpreter": {
   "hash": "cf9617e5f84bf866ca7695645cc37d90b8f9825d482b90a5f211f8ac7979e595"
  },
  "kernelspec": {
   "display_name": "Python 3.10.2 64-bit",
   "language": "python",
   "name": "python3"
  },
  "language_info": {
   "codemirror_mode": {
    "name": "ipython",
    "version": 3
   },
   "file_extension": ".py",
   "mimetype": "text/x-python",
   "name": "python",
   "nbconvert_exporter": "python",
   "pygments_lexer": "ipython3",
   "version": "3.10.2"
  },
  "orig_nbformat": 4
 },
 "nbformat": 4,
 "nbformat_minor": 2
}
