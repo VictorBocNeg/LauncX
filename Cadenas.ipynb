{
 "cells": [
  {
   "cell_type": "code",
   "execution_count": null,
   "metadata": {},
   "outputs": [],
   "source": [
    "text = \"\"\"Interesting facts about the Moon. The Moon is Earth's only satellite. There are several interesting facts about the Moon and how it affects life here on Earth. \n",
    "On average, the Moon moves 4cm away from the Earth every year. This yearly drift is not significant enough to cause immediate effects on Earth. The highest daylight temperature of the Moon is 127 C.\"\"\"\n",
    "\n",
    "#Con esto separo la cadena en cada oración mediante los puntos\n",
    "\n",
    "partes = text.split('. ')\n",
    "\n",
    "partes\n"
   ]
  },
  {
   "cell_type": "code",
   "execution_count": null,
   "metadata": {},
   "outputs": [],
   "source": [
    "#Con este código busco dentro de la cadena un grupo de palabras\n",
    "PalabrasCl = [\"average\", \"temperature\", \"distance\",]\n",
    "text.find(str(PalabrasCl))"
   ]
  },
  {
   "cell_type": "code",
   "execution_count": null,
   "metadata": {},
   "outputs": [],
   "source": [
    "#Con este código se usan for anidados para realizar primero una búsqueda en las partes del texto que se dividió en el primer bloque de código y luego se busca en las palabras clave para así filtrar los hechos\n",
    "for parte in partes:\n",
    "    for palabra in PalabrasCl:\n",
    "        #Aquí es donde buscamos cada palabra en cada parte e imprimimos si la condición se cumple.\n",
    "        if palabra in parte:\n",
    "            print(parte)"
   ]
  },
  {
   "cell_type": "code",
   "execution_count": null,
   "metadata": {},
   "outputs": [],
   "source": [
    "#Este es el mismo bloque de código que el anterior pero se reemplaza el \"C.\" por \"Celsius\"\n",
    "#Con este código se usan for anidados para realizar primero una búsqueda en las partes del texto que se dividió en el primer bloque de código y luego se busca en las palabras clave para así filtrar los hechos\n",
    "for parte in partes:\n",
    "    for palabra in PalabrasCl:\n",
    "        #Aquí es donde buscamos cada palabra en cada parte e imprimimos si la condición se cumple.\n",
    "        if palabra in parte:\n",
    "            print(parte.replace(\"C.\",\"Celsius\"))"
   ]
  },
  {
   "cell_type": "code",
   "execution_count": 102,
   "metadata": {},
   "outputs": [
    {
     "name": "stdout",
     "output_type": "stream",
     "text": [
      "Datos De La Gravedad Sobre Ganímedes\n",
      "\n",
      "------------------------------------------------------------\n",
      "Nombre del planeta: Marte\n",
      "Gravedad en Ganímedes: 1.4300000000000002 m/s^2\n",
      "\n",
      "\n"
     ]
    }
   ],
   "source": [
    "#EMPIEZA EL EJERCICIO 2\n",
    "\n",
    "# Datos con los que vas a trabajar (En esta parte al final se reemplazaron los valores por los indicados en la kata)\n",
    "name = \"Ganímedes\"\n",
    "gravity = 0.00143 # in kms\n",
    "planet = \"Marte\"\n",
    "\n",
    "titulo = f'datos de la gravedad sobre {name}'.title()\n",
    "\n",
    "#ahora toca crear la plantilla\n",
    "plantilla = f\"\"\"\n",
    "------------------------------------------------------------\n",
    "Nombre del planeta: {planet}\n",
    "Gravedad en {name}: {gravity*1000} m/s^2\n",
    "\"\"\"\n",
    "\n",
    "#Aquí usamos una variable de tipo f con comillas triples para unir el formato con el título.\n",
    "\n",
    "resultado = f\"\"\"{titulo}\n",
    "{plantilla}\n",
    "\"\"\"\n",
    "\n",
    "print(resultado)\n",
    "\n"
   ]
  },
  {
   "cell_type": "code",
   "execution_count": null,
   "metadata": {},
   "outputs": [],
   "source": [
    "#En esta parte se generará la nueva plantilla para usar la función .format() (SE REALIZAN LAS OPERACIONES FUERA DE LA FUNCIÓN)\n",
    "\n",
    "plantilla2 = \"\"\"\n",
    "\n",
    "Datos De La Gravedad sobre: {name}\n",
    "------------------------------------------------------------------------\n",
    "Nombre del planeta: {planet}\n",
    "Gravedad en {name}: {gravity} m/s^2\n",
    "\"\"\"\n",
    "\n",
    "print(plantilla2.format(name=\"Gamínedez\",planet=\"Marte\",gravity=gravity*1000))"
   ]
  }
 ],
 "metadata": {
  "interpreter": {
   "hash": "cf9617e5f84bf866ca7695645cc37d90b8f9825d482b90a5f211f8ac7979e595"
  },
  "kernelspec": {
   "display_name": "Python 3.10.2 64-bit",
   "language": "python",
   "name": "python3"
  },
  "language_info": {
   "name": "python",
   "version": "3.10.2"
  },
  "orig_nbformat": 4
 },
 "nbformat": 4,
 "nbformat_minor": 2
}
