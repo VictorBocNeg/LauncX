{
 "cells": [
  {
   "cell_type": "markdown",
   "metadata": {},
   "source": [
    "Para este ejercicio, escribirás una lógica condicional que imprima una advertencia si un asteroide se acerca a la Tierra demasiado rápido. La velocidad del asteroide varía dependiendo de lo cerca que esté del sol, y cualquier velocidad superior a 25 kilómetros por segundo (km/s) merece una advertencia.\n",
    "\n",
    "Un asteroide se acerca, y viaja a una velocidad de 49 km/s."
   ]
  },
  {
   "cell_type": "code",
   "execution_count": null,
   "metadata": {},
   "outputs": [],
   "source": [
    "mensaje=\"\"\n",
    "print(\"SE HA DETECTADO UN ASTEROIDE APROXIMÁNDOSE A LA TIERRA\")\n",
    "velocidadAst = input(\"Escaneando el objeto para determinar la velocidad...\")\n",
    "if(int(velocidadAst)>= 19):\n",
    "    mensaje+=\"El asteroide debería ser visible en cielo, se recomienda que todos lo busquen\"\n",
    "    if(int(velocidadAst)>=25):\n",
    "        mensaje+=\" ya que por su velocidad de: \"+str(velocidadAst)+\" Kilómetros por segundo representa una amenaza para la vida!\"\n",
    "    else:\n",
    "        mensaje+=\" ya que a pesar de no ser una amenaza realmente puede ser un espectáculo maravilloso\"\n",
    "else:\n",
    "    mensaje+=\"El asteroide no podrá ser visto desde el cielo, lo sentimos no será posible para los habitantes de la tierra predecir su trayectoria\"\n",
    "print(mensaje)"
   ]
  },
  {
   "cell_type": "code",
   "execution_count": 23,
   "metadata": {},
   "outputs": [
    {
     "name": "stdout",
     "output_type": "stream",
     "text": [
      "UN ASTEROIDE VIENE HACIA LA TIERRA, ES NECESARIO REALIZAR UN DIAGNÓSTICO PARA DETERMINAR LAS ACCIONES A TOMAR, POR FAVOR INTRODUZCA LOS VALORES QUE PUEDE VER EN LA PANTALLA\n",
      "PARA EMPEZAR INGRESE LA VELOCIDAD DEL ASTEROIDE\n",
      "PERFECTO, AHORA INTRODUZCA EL TAMAÑO DEL ASTEROIDE\n",
      "PROCESANDO...\n",
      "ALERTA: DEBIDO AL TAMAÑO Y VELOCIDAD DEL ASTEROIDE ESTE REPRESENTA UN PELIGRO PARA LA TIERRA!\n"
     ]
    }
   ],
   "source": [
    "print(\"UN ASTEROIDE VIENE HACIA LA TIERRA, ES NECESARIO REALIZAR UN DIAGNÓSTICO PARA DETERMINAR LAS ACCIONES A TOMAR, POR FAVOR INTRODUZCA LOS VALORES QUE PUEDE VER EN LA PANTALLA\")\n",
    "print(\"PARA EMPEZAR INGRESE LA VELOCIDAD DEL ASTEROIDE\")\n",
    "velocidadAst=input(\"La velocidad del asteroide es:\")\n",
    "print(\"PERFECTO, AHORA INTRODUZCA EL TAMAÑO DEL ASTEROIDE\")\n",
    "tamanoAst=input(\"El tamaño del asteroide es:\")\n",
    "print(\"PROCESANDO...\")\n",
    "if(int(tamanoAst)>=25 or int(velocidadAst)>=25):\n",
    "    if(int(tamanoAst)>=25 and int(velocidadAst)>=25):\n",
    "        print(\"ALERTA: DEBIDO AL TAMAÑO Y VELOCIDAD DEL ASTEROIDE ESTE REPRESENTA UN PELIGRO PARA LA TIERRA!\")\n",
    "    elif(int(tamanoAst>=25)):\n",
    "        print(\"ALERTA: DEBIDO AL TAMAÑO DEL ASTEROIDE ESTE REPRESENTA UN PELIGRO PARA LA TIERRA\")\n",
    "    elif(int(velocidadAst)>= 25):\n",
    "        print(\"ADVERTENCIA: DEBIDO A LA VELOCIDAD DEL ASTEROIDE ESTE REPRESENTA UN PELIGRO PARA LA TIERRA\")\n",
    "else:\n",
    "    print(\"EL ASTEROIDE SE DESINTEGRARÁ A MEDIDA QUE INGRESE A LA ATMÓSFERA\")\n"
   ]
  }
 ],
 "metadata": {
  "interpreter": {
   "hash": "cf9617e5f84bf866ca7695645cc37d90b8f9825d482b90a5f211f8ac7979e595"
  },
  "kernelspec": {
   "display_name": "Python 3.10.2 64-bit",
   "language": "python",
   "name": "python3"
  },
  "language_info": {
   "codemirror_mode": {
    "name": "ipython",
    "version": 3
   },
   "file_extension": ".py",
   "mimetype": "text/x-python",
   "name": "python",
   "nbconvert_exporter": "python",
   "pygments_lexer": "ipython3",
   "version": "3.10.2"
  },
  "orig_nbformat": 4
 },
 "nbformat": 4,
 "nbformat_minor": 2
}
