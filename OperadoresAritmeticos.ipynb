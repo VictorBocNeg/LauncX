{
 "cells": [
  {
   "cell_type": "code",
   "execution_count": 3,
   "metadata": {},
   "outputs": [
    {
     "name": "stdout",
     "output_type": "stream",
     "text": [
      "La distancia en kilómetros entre la tierra y júpiter es de: 628949330\n",
      "La distancia en millas entre la tierra y júpiter es de: 390577534\n"
     ]
    }
   ],
   "source": [
    "#Comenzamos con la distancia entre la tierra y Júpiter\n",
    "\n",
    "tierra = 149597870\n",
    "jupiter = 778547200\n",
    "\n",
    "distanciaMillas = (jupiter - tierra) * 0.621\n",
    "\n",
    "#Calculamos la distancia entre los dos planetas restando sus distancias con respecto al sol\n",
    "\n",
    "print(\"La distancia en kilómetros entre la tierra y júpiter es de:\",round(jupiter-tierra))\n",
    "print(\"La distancia en millas entre la tierra y júpiter es de:\",round(distanciaMillas))"
   ]
  },
  {
   "cell_type": "code",
   "execution_count": 5,
   "metadata": {},
   "outputs": [
    {
     "name": "stdout",
     "output_type": "stream",
     "text": [
      "400\n"
     ]
    }
   ],
   "source": [
    "#Aquí comienza el ejercicio 2 de la kata\n",
    "\n",
    "#Comenzamos con crear variables y luego leerlas mediante un input del usuario\n",
    "\n",
    "tierra2 = input(\"Ingresa el valor de la distancia entre la tierra y el sol.\")\n",
    "jupiter2 = input(\"Ingresa el valor de la distancia entre júpiter y el sol.\")\n",
    "\n",
    "#Calculamos la distancia entre los planetas mediante un parse int a lo ingresado por el usuario\n",
    "\n",
    "distancia2 = int(tierra2) - int(jupiter2)\n",
    "\n",
    "#Aquí imprimimos el resultado de la resta entre las distancias con respecto al sol de jupiter y la tierra (SE USA EL MÉTODO ABS() PARA ASEGURARNOS DE QUE EL VALOR SEA POSITIVO A PESAR DE QUE LA PRIMERA DISTANCIA SEA MAYOR QUE LA SEGUNDA).\n",
    "print(abs(distancia2))"
   ]
  }
 ],
 "metadata": {
  "interpreter": {
   "hash": "cf9617e5f84bf866ca7695645cc37d90b8f9825d482b90a5f211f8ac7979e595"
  },
  "kernelspec": {
   "display_name": "Python 3.10.2 64-bit",
   "language": "python",
   "name": "python3"
  },
  "language_info": {
   "codemirror_mode": {
    "name": "ipython",
    "version": 3
   },
   "file_extension": ".py",
   "mimetype": "text/x-python",
   "name": "python",
   "nbconvert_exporter": "python",
   "pygments_lexer": "ipython3",
   "version": "3.10.2"
  },
  "orig_nbformat": 4
 },
 "nbformat": 4,
 "nbformat_minor": 2
}
